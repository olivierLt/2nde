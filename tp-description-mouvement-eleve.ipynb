{
 "cells": [
  {
   "cell_type": "markdown",
   "metadata": {},
   "source": [
    "# Description d'un mouvement"
   ]
  },
  {
   "cell_type": "markdown",
   "metadata": {},
   "source": [
    "Un notebook se lit de haut en bas. Toutes les cellules de code doivent être exécutées :\n",
    "- soit en cliquant sur le bouton \"Exécuter\" dans la barre d'outil\n",
    "- soit au clavier en tapant sur les touches MAJ + ENTREE  \n",
    "\n",
    "\n",
    "Pour récupérer votre travail sur votre ordinateur : menu File > Download As > Notebook (.ipynb)"
   ]
  },
  {
   "cell_type": "markdown",
   "metadata": {},
   "source": [
    "## Récupération des données\n",
    "\n",
    "On récupère les données t, x y à l'aide d'un export de pointage de vidéos\n",
    "\n",
    "Les données sont en mémoire dans des listes python appelées t, x et y"
   ]
  },
  {
   "cell_type": "markdown",
   "metadata": {},
   "source": [
    " <div class = \"alert alert-info\">\n",
    "    \n",
    "\n",
    " Exécuter le programme ci-dessous"
   ]
  },
  {
   "cell_type": "code",
   "execution_count": null,
   "metadata": {},
   "outputs": [],
   "source": [
    "#Le fichier doit être dans le même dossier que le notebook\n",
    "name= \"enregistrement-fusee-falcon.txt\"\n",
    "\n",
    "sep = \";\" #caractère séparateur du csv -peut être une virgule, un point-virgule ou une tabulation noté \\t \n",
    "entete = 3 #nombre de lignes d'entete\n",
    "\n",
    "f = open(name,\"r\")\n",
    "data = f.readlines() #on lit toutes les lignes et on met ça dans une liste -un élément par ligne-\n",
    "f.close() #on referme le fichier\n",
    "\n",
    "data = data[ entete : ] #on supprime les lignes d'en-tête qui ne nous intéressent pas\n",
    "\n",
    "#on construit les listes de valeurs utiles\n",
    "# les données du fichier texte sont de la forme t x y (adapter les lignes ci-dessous sinon)\n",
    "t = [] \n",
    "x = []\n",
    "y = []\n",
    "for ligne in data:\n",
    "    ligne = ligne.replace(\",\" , \".\") #change les virgules en point => format numérique différent sur excel et sur python\n",
    "    ligne = ligne.strip().split(sep) #on sépare les différents élément en utilisant le caractère séparateur défini\n",
    "    ligne = list(map(float,ligne)) #on convertit chaque élément en float\n",
    "    #on rentre les valeurs dans les listes adaptées\n",
    "    t.append(ligne[0]) #premier élément de la ligne = t\n",
    "    x.append(ligne[1]) # second élément de la ligne = x\n",
    "    y.append(ligne[2]) # dernier élément de la ligne = y\n",
    "\n",
    "#affichage des listes\n",
    "print(\"t=\",t)\n",
    "print(\"x=\",x)\n",
    "print(\"y=\",y)"
   ]
  },
  {
   "cell_type": "markdown",
   "metadata": {},
   "source": [
    "## Tracé de la courbe"
   ]
  },
  {
   "cell_type": "markdown",
   "metadata": {},
   "source": [
    "## Principe du tracé d'une courbe en python\n",
    "\n",
    "On utilise la méthode `plot`qui permet de tracer des courbes ou des nuages de points. \n",
    "Il suffit de disposer de deux listes de même taille, l'une correspondant aux valeurs de l'abscisse, l'autre aux valeurs de l'ordonnée. "
   ]
  },
  {
   "cell_type": "markdown",
   "metadata": {},
   "source": [
    " <div class = \"alert alert-info\">\n",
    "    \n",
    "\n",
    "1. Exécuter le programme\n",
    "2.  Modifier le programme\n",
    "    1. Changer les échelles en x et y\n",
    "    2. Changer les titres et légende\n",
    "    3. Modifier le style du tracé : voir le lien https://phychim.ac-versailles.fr/IMG/pdf/tuto_python_matplotlib.pdf"
   ]
  },
  {
   "cell_type": "code",
   "execution_count": null,
   "metadata": {},
   "outputs": [],
   "source": [
    "import matplotlib.pyplot as plt\n",
    "\n",
    "absc = [10, 11, 13, 15, 18, 20, 22]  # les valeurs en abscisse sous forme de liste  \n",
    "ordo = [1, 3, 5, 8, 5, 1, 7] # les valeurs en ordonnée sous forme de liste\n",
    "\n",
    "\n",
    "plt.figure(figsize=(5,5)) # taille du graphique (en pouces)\n",
    "\n",
    "plt.xlim([5,25]) # échelle en x\n",
    "\n",
    "plt.ylim([0,10]) # échelle en y\n",
    "\n",
    "plt.plot(absc, ordo, color = 'r', marker = '>', linestyle = ':') #On peut ajouter différents attributs, comme la couleur, le style de trait, le style de point.\n",
    "plt.title(\"évolution de la température\") #titre du graphique\n",
    "plt.xlabel(\"x en °C\") # légende de l'axe des abscisses\n",
    "plt.ylabel(\"y en minutes\") # légende de l'axe des oordonnées\n",
    "\n",
    "\n",
    "plt.show() # affiche le graphique"
   ]
  },
  {
   "cell_type": "markdown",
   "metadata": {},
   "source": [
    " <div class = \"alert alert-info\">\n",
    "Compléter le programme :\n",
    "    \n",
    "- échelle en x : [-5,5] (pas d'échelle indiquée en y)  \n",
    "- tracer la trajectoire de la fusée ( y en fonction de x) en nuage de point avec le titre des axes et le titre du graphique. "
   ]
  },
  {
   "cell_type": "code",
   "execution_count": null,
   "metadata": {},
   "outputs": [],
   "source": [
    "#Tracé de la trajectoire de la fusée\n",
    "import matplotlib.pyplot as plt\n",
    "\n",
    "plt.figure(figsize=(10,10)) # taille du graphique (en pouces)\n",
    "plt.axes(aspect='equal') # permet d'avoir un repère orthonormé\n",
    "\n"
   ]
  },
  {
   "cell_type": "markdown",
   "metadata": {},
   "source": [
    "## Tracé de vecteurs vitesses"
   ]
  },
  {
   "cell_type": "markdown",
   "metadata": {},
   "source": [
    "## Tracé de vecteurs"
   ]
  },
  {
   "cell_type": "markdown",
   "metadata": {},
   "source": [
    "On utilise la commande `quiver` pour tracer un vecteur. Le programme ci-dessous permet de tracer un vecteur de coordonnées (1,2) au point de coordonnée (3,4).\n"
   ]
  },
  {
   "cell_type": "markdown",
   "metadata": {},
   "source": [
    " <div class = \"alert alert-info\">\n",
    "    \n",
    "\n",
    "1. Exécuter le programme ci-dessous \n",
    "    \n",
    "2. Modifier les valeurs et éxécuter à nouveau le programme pour comprendre comment il fonctionne.    \n",
    "    1. Modifier la position du vecteur\n",
    "    2. Modifier les coordonnées du vecteur\n",
    "    3. Modifier les échelles"
   ]
  },
  {
   "cell_type": "code",
   "execution_count": null,
   "metadata": {},
   "outputs": [],
   "source": [
    "import matplotlib.pyplot as plt\n",
    "\n",
    "plt.axes(aspect='equal') # permet d'avoir un repère orthonormé\n",
    "\n",
    "plt.grid()\n",
    "\n",
    "plt.xlim([0,10]) # échelle en x\n",
    "\n",
    "plt.ylim([0,10]) # échelle en y\n",
    "\n",
    "plt.quiver(3, 4, 1, 2, units='dots', angles=\"xy\", scale_units='xy', scale=1, label=\"Exemple de vecteur\",color=\"green\")\n",
    "\n",
    "plt.legend() # affiche la légende\n",
    "\n",
    "\n",
    "plt.show()"
   ]
  },
  {
   "cell_type": "markdown",
   "metadata": {},
   "source": [
    "##  Tracé de vecteurs avec échelle"
   ]
  },
  {
   "cell_type": "markdown",
   "metadata": {},
   "source": [
    "Le problème en physique est que la norme du vecteur (= \"sa taille\") est lié à la grandeur physique qu'il représente. Par exemple la norme d'un vecteur vitesse est proportionnelle à la valeur de la vitesse. Il faut donc indiquer explicitement l'échelle sur le graphique.\n",
    "On veut représenter un vecteur vitesse vertical vers le bas correspondant à une valeur de la vitesse V=15m/s à un point de coordonnée (8,5).\n",
    "On veut que la taille du vecteur vitesse correspond çà une taille de 2m sur le graphique"
   ]
  },
  {
   "cell_type": "markdown",
   "metadata": {},
   "source": [
    " <div class = \"alert alert-info\">\n",
    "    \n",
    "\n",
    " 1. Exécuter le programme ci-dessous \n",
    "    \n",
    " 2. Modifier les valeurs et éxécuter à nouveau le programme pour comprendre comment il fonctionne :\n",
    "    1. tracer un vecteur de coordonnées (5,20) au point de coordonnées (2,4)\n",
    "    2. changer la légende\n",
    "    2. changer l'échelle de représentation des vecteurs: 10m/s correspond à une taille de 1m sur le graphique"
   ]
  },
  {
   "cell_type": "code",
   "execution_count": null,
   "metadata": {},
   "outputs": [],
   "source": [
    "\n",
    "import matplotlib.pyplot as plt\n",
    "\n",
    "plt.axes(aspect='equal')\n",
    "\n",
    "\n",
    "plt.grid()\n",
    "\n",
    "plt.xlim([0,10]) # échelle en x\n",
    "\n",
    "plt.ylim([0,10]) # échelle en y\n",
    "\n",
    "# on veut que 10m/s  correspond à une taille de 2m sur le graphique \n",
    "echelle_vecteur=10\n",
    "echelle_carreau=2\n",
    "\n",
    "plt.quiver(8, 4, 0, -15, units='dots', angles=\"xy\", scale_units='xy', scale=echelle_vecteur /echelle_carreau, label=\"vitesse\",color=\"green\")\n",
    "\n",
    "plt.quiver(6, 6,echelle_carreau,0, units='dots', angles=\"xy\", scale_units='xy', scale=1, label=\"échelle en m/s \") # vecteur représenrtnt l'échelle\n",
    "\n",
    "\n",
    "plt.text(6.5,5.5,str(echelle_vecteur)) # valeur du vecteur échelle\n",
    "\n",
    "\n",
    "\n",
    "plt.legend() # affiche la légende\n",
    "\n",
    "plt.xlabel(\"x en m\")\n",
    "plt.ylabel(\"y en m \")\n",
    "\n",
    "\n",
    "\n",
    "plt.show()"
   ]
  },
  {
   "cell_type": "markdown",
   "metadata": {},
   "source": [
    "## Calcul de la vitesse\n",
    "\n",
    "Comme le mouvement est verticale, la vitesse au point M se calcule à partir des valeurs de M et de la position suivante M'.\n",
    "\n",
    "Comme la formule de la vitesse est :  $ \\overrightarrow v =   \\dfrac { \\overrightarrow {MM'}} {  t'-t }  $ , $\n",
    "\\overrightarrow v \n",
    "\\begin{pmatrix}\n",
    "\\dfrac{x'-x}{t'-t} \\\\\n",
    "\\dfrac{y'-y}{t'-t} \\\\\n",
    "\\end{pmatrix}\n",
    "$\n",
    "\n",
    "De plus les valeurs de x et y sont dans des listes. Pour repérer un élément dans la liste, il faut écrire par exemple x\\[1\\] qui correspond au deuxième élément de la liste x car la liste est numéroté à partir du rang 0.\n",
    "\n",
    "Donc le calcul $ \\dfrac {x'-x} {t'-t} $ s'écrit $ \\dfrac {x [i+1]-x[i]} {t[i+1] - t[i]} $ pour le point i avec  $  t[i+1] - t[i]$ = durée entre 2 positions successives\n",
    "\n",
    "On a donc $ \n",
    "\\overrightarrow v_{i+1} \n",
    "\\begin{pmatrix}\n",
    "vx_{i+1}= \\dfrac{x[i+1]-x[i]}{t[i+1]-t[i]} \\\\\n",
    "vy_{i+1}=\\dfrac{y[i+1]-y[i]}{t[i+1]-t[i]} \\\\\n",
    "\\end{pmatrix}\n",
    "$  . Par exemple, pour le point 2, on a i=2 et $ \n",
    "\\overrightarrow v_{2} \n",
    "\\begin{pmatrix}\n",
    "vx_2= \\dfrac{x[2]-x[1]}{t[2]-t[1]} \\\\\n",
    "vy_2=\\dfrac{y[2]-y[1]}{t[2]-t[1]} \\\\\n",
    "\\end{pmatrix}\n",
    "$"
   ]
  },
  {
   "cell_type": "markdown",
   "metadata": {},
   "source": [
    " <div class = \"alert alert-info\">\n",
    "    \n",
    "\n",
    " 1. Exécuter le programme ci-dessous\n",
    " 2. Compléter le programme pour calculer les coordonnées des vecteurs vitesses $ \\overrightarrow v_5 $ et $ \\overrightarrow v_2 $\n",
    " 3. Compléter le programme pour afficher les coordonnées de $ \\overrightarrow v_5 $ et $ \\overrightarrow v_2 $"
   ]
  },
  {
   "cell_type": "code",
   "execution_count": null,
   "metadata": {},
   "outputs": [],
   "source": [
    "#calcul des coordonnées du vecteur vitesse au point 2 noté v2\n",
    "vx2=(x[2] - x[1])/(t[2] - t[1]) # abscisse du vecteur vitesse au point 2\n",
    "vy2= (y[2] - y[1])/(t[2] - t[1])  # ordonnée du vecteur vitesse au point 2\n",
    "\n",
    "#calcul des coordonnées du vecteur vitesse au point 6 noté v6\n",
    "\n",
    "#calcul des coordonnées du vecteur vitesse au point 10 noté v10\n",
    "\n",
    "#affichage des coordonnées \n",
    "#du vecteur vitesse au point 2\n",
    "print(\"vx2=\",vx2,\"m/s\")\n",
    "print(\"vy2=\",vy2, \"m/s\")\n",
    "#du vecteur vitesse au point 5\n",
    "\n",
    "#du vecteur vitesse au point 10\n",
    "\n"
   ]
  },
  {
   "cell_type": "markdown",
   "metadata": {},
   "source": [
    "## Tracé du vecteur vitesse"
   ]
  },
  {
   "cell_type": "markdown",
   "metadata": {},
   "source": [
    " <div class = \"alert alert-info\">\n",
    "    \n",
    "\n",
    "1. Exécuter le programme ci-dessous\n",
    "2. Compléter le programme : tracé du vecteur vitesse aux points 6 ($ \\overrightarrow v_6 $) et 10 ($ \\overrightarrow v_{10} $)\n",
    "3. Modifier l'échelle de représentation des vecteurs"
   ]
  },
  {
   "cell_type": "code",
   "execution_count": null,
   "metadata": {},
   "outputs": [],
   "source": [
    "# tracé de la trajectoire\n",
    "\n",
    "import matplotlib.pyplot as plt\n",
    "\n",
    "plt.figure(figsize=(10,10)) # taille du graphique (en pouces)\n",
    "\n",
    "plt.axes(aspect='equal')\n",
    "\n",
    "plt.grid()\n",
    "\n",
    "plt.xlim([-50,50]) # échelle en x\n",
    "\n",
    "#plt.ylim([0,-100]) # échelle en y\n",
    "\n",
    "\n",
    "\n",
    "plt.plot(x, y, color = 'r', marker = '+', linestyle = ':') #On peut ajouter différents attributs, comme la couleur, le style de trait, le style de point.\n",
    "plt.title(\"trajectoire de la fusée\") #titre du graphique\n",
    "plt.xlabel(\"x en m\") # légende de l'axe des abscisses\n",
    "plt.ylabel(\"y en m \") # légende de l'axe des oordonnées\n",
    "\n",
    "#tracé du vecteur vitesse\n",
    "\n",
    "# on veut que 10m/s  correspond à une taille de 10m sur le graphique \n",
    "echelle_vecteur=10\n",
    "echelle_carreau=10\n",
    "\n",
    "#tracé du vecteur vitesse à la position 2 (attention à la numérotation de la position (position 2= indice 1)\n",
    "plt.quiver(x[1], y[1], vx2, vy2, units='dots', angles=\"xy\", scale_units='xy', scale=echelle_vecteur /echelle_carreau, label=\"vitesse au point 2\",color=\"green\")\n",
    "\n",
    "#tracé du vecteur vitesse à la position 6\n",
    "\n",
    "#tracé du vecteur vitesse à la position 10\n",
    "\n",
    "# vecteur représentant l'échelle\n",
    "plt.quiver(20, -20,echelle_carreau,0, units='dots', angles=\"xy\", scale_units='xy', scale=1, label=\"échelle  \") # vecteur représenrtnt l'échelle\n",
    "\n",
    "\n",
    "plt.text(25,-25,str(echelle_vecteur)+ \"m/s\") # valeur du vecteur échelle\n",
    "\n",
    "\n",
    "\n",
    "plt.legend() # affiche la légende\n",
    "\n",
    "\n",
    "\n",
    "plt.show() # affiche le graphique avec le vecteur\n",
    "\n"
   ]
  },
  {
   "cell_type": "code",
   "execution_count": null,
   "metadata": {},
   "outputs": [],
   "source": []
  }
 ],
 "metadata": {
  "kernelspec": {
   "display_name": "Python 3",
   "language": "python",
   "name": "python3"
  },
  "language_info": {
   "codemirror_mode": {
    "name": "ipython",
    "version": 3
   },
   "file_extension": ".py",
   "mimetype": "text/x-python",
   "name": "python",
   "nbconvert_exporter": "python",
   "pygments_lexer": "ipython3",
   "version": "3.7.3"
  }
 },
 "nbformat": 4,
 "nbformat_minor": 4
}
